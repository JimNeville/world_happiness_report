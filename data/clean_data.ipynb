{
 "cells": [
  {
   "cell_type": "code",
   "execution_count": 1,
   "metadata": {},
   "outputs": [],
   "source": [
    "import pandas as pd\n",
    "import numpy as np\n",
    "import seaborn as sns\n",
    "\n",
    "whr2015 = pd.read_csv('2015.csv')\n",
    "whr2016 = pd.read_csv('2016.csv')\n",
    "whr2017 = pd.read_csv('2017.csv')"
   ]
  },
  {
   "cell_type": "code",
   "execution_count": 2,
   "metadata": {},
   "outputs": [],
   "source": [
    "# Next Steps:\n",
    "# 1. Remove unneeded columns and add Year column\n",
    "# 2. Homogenize column names\n",
    "# 3. Combine data sets across years\n",
    "# 4. Compare overall and regional happiness across years"
   ]
  },
  {
   "cell_type": "code",
   "execution_count": 3,
   "metadata": {},
   "outputs": [],
   "source": [
    "whr2015['year'] = 2015\n",
    "whr2016['year'] = 2016\n",
    "whr2017['year'] = 2017"
   ]
  },
  {
   "cell_type": "code",
   "execution_count": 4,
   "metadata": {},
   "outputs": [],
   "source": [
    "for df in [whr2015, whr2016, whr2017]:\n",
    "    parentheses = r\"[()]\"\n",
    "    df.columns = df.columns.str.lower().str.replace(' ', '_').str.replace(parentheses, '').str.replace('.', '_').str.replace('__', '_')"
   ]
  },
  {
   "cell_type": "code",
   "execution_count": 5,
   "metadata": {},
   "outputs": [],
   "source": [
    "column_name_map = {'economy_gdp_per_capita_':'economy_gdp_per_capita',\n",
    "                  'health_life_expectancy_': 'health_life_expectancy',\n",
    "                  'trust_government_corruption_': 'trust_government_corruption'}\n",
    "\n",
    "whr2017 = whr2017.rename(column_name_map, axis=1)"
   ]
  },
  {
   "cell_type": "code",
   "execution_count": 6,
   "metadata": {},
   "outputs": [],
   "source": [
    "combined = pd.concat([whr2015, whr2016, whr2017], ignore_index=True, sort=False)"
   ]
  },
  {
   "cell_type": "code",
   "execution_count": 7,
   "metadata": {},
   "outputs": [
    {
     "data": {
      "text/plain": [
       "country                          0\n",
       "region                         155\n",
       "happiness_rank                   0\n",
       "happiness_score                  0\n",
       "standard_error                 312\n",
       "economy_gdp_per_capita           0\n",
       "family                           0\n",
       "health_life_expectancy           0\n",
       "freedom                          0\n",
       "trust_government_corruption      0\n",
       "generosity                       0\n",
       "dystopia_residual                0\n",
       "year                             0\n",
       "lower_confidence_interval      313\n",
       "upper_confidence_interval      313\n",
       "whisker_high                   315\n",
       "whisker_low                    315\n",
       "dtype: int64"
      ]
     },
     "execution_count": 7,
     "metadata": {},
     "output_type": "execute_result"
    }
   ],
   "source": [
    "combined.isnull().sum()"
   ]
  },
  {
   "cell_type": "code",
   "execution_count": 8,
   "metadata": {},
   "outputs": [
    {
     "data": {
      "text/plain": [
       "<matplotlib.axes._subplots.AxesSubplot at 0x1a21016940>"
      ]
     },
     "execution_count": 8,
     "metadata": {},
     "output_type": "execute_result"
    },
    {
     "data": {
      "image/png": "[encoded data removed]",
      "text/plain": [
       "<Figure size 432x288 with 1 Axes>"
      ]
     },
     "metadata": {
      "needs_background": "light"
     },
     "output_type": "display_data"
    }
   ],
   "source": [
    "# Visualize missing values\n",
    "\n",
    "combined_updated = combined.set_index('year')\n",
    "sns.heatmap(combined_updated.isnull(), cbar=False)"
   ]
  },
  {
   "cell_type": "code",
   "execution_count": 9,
   "metadata": {},
   "outputs": [],
   "source": [
    "# Remove columns with missing data in two years\n",
    "\n",
    "combined.drop(['lower_confidence_interval', 'standard_error', 'upper_confidence_interval', 'whisker_high', 'whisker_low'], \n",
    "              inplace=True,\n",
    "              axis=1\n",
    "             )"
   ]
  },
  {
   "cell_type": "code",
   "execution_count": 10,
   "metadata": {},
   "outputs": [
    {
     "data": {
      "text/plain": [
       "country                          0\n",
       "region                         155\n",
       "happiness_rank                   0\n",
       "happiness_score                  0\n",
       "economy_gdp_per_capita           0\n",
       "family                           0\n",
       "health_life_expectancy           0\n",
       "freedom                          0\n",
       "trust_government_corruption      0\n",
       "generosity                       0\n",
       "dystopia_residual                0\n",
       "year                             0\n",
       "dtype: int64"
      ]
     },
     "execution_count": 10,
     "metadata": {},
     "output_type": "execute_result"
    }
   ],
   "source": [
    "combined.isnull().sum()"
   ]
  },
  {
   "cell_type": "code",
   "execution_count": 11,
   "metadata": {},
   "outputs": [],
   "source": [
    "# Create df of countries and regions from 2015 and 2016 data sets\n",
    "\n",
    "combined_first_two_years = combined[(combined['year'] == 2015) | (combined['year'] == 2016)][['country', 'region']]"
   ]
  },
  {
   "cell_type": "code",
   "execution_count": 12,
   "metadata": {},
   "outputs": [],
   "source": [
    "# Fill in region column for 2017\n",
    "\n",
    "combined = combined.merge(right=combined_first_two_years, how='left', on='country', suffixes=('_original', '_new'))"
   ]
  },
  {
   "cell_type": "code",
   "execution_count": 13,
   "metadata": {},
   "outputs": [],
   "source": [
    "#Drop original regional column\n",
    "\n",
    "combined.drop('region_original', axis=1, inplace=True)"
   ]
  },
  {
   "cell_type": "code",
   "execution_count": 14,
   "metadata": {},
   "outputs": [],
   "source": [
    "# Rename new region column\n",
    "\n",
    "combined.rename({'region_new':'region'}, axis=1,inplace=True)"
   ]
  },
  {
   "cell_type": "code",
   "execution_count": 15,
   "metadata": {},
   "outputs": [],
   "source": [
    "# Drop duplicates created from merging\n",
    "\n",
    "combined.drop_duplicates(inplace=True)"
   ]
  },
  {
   "cell_type": "code",
   "execution_count": 16,
   "metadata": {},
   "outputs": [],
   "source": [
    "combined.loc[681,'country'] = 'Taiwan'\n",
    "combined.loc[681,'region'] = 'Eastern Asia'\n",
    "combined.loc[755,'country'] = 'Hong Kong'\n",
    "combined.loc[755,'region'] = 'Eastern Asis'"
   ]
  },
  {
   "cell_type": "code",
   "execution_count": 17,
   "metadata": {},
   "outputs": [
    {
     "data": {
      "text/plain": [
       "country                        0\n",
       "happiness_rank                 0\n",
       "happiness_score                0\n",
       "economy_gdp_per_capita         0\n",
       "family                         0\n",
       "health_life_expectancy         0\n",
       "freedom                        0\n",
       "trust_government_corruption    0\n",
       "generosity                     0\n",
       "dystopia_residual              0\n",
       "year                           0\n",
       "region                         0\n",
       "dtype: int64"
      ]
     },
     "execution_count": 17,
     "metadata": {},
     "output_type": "execute_result"
    }
   ],
   "source": [
    "combined.isnull().sum()"
   ]
  }
 ],
 "metadata": {
  "kernelspec": {
   "display_name": "Python 3",
   "language": "python",
   "name": "python3"
  },
  "language_info": {
   "codemirror_mode": {
    "name": "ipython",
    "version": 3
   },
   "file_extension": ".py",
   "mimetype": "text/x-python",
   "name": "python",
   "nbconvert_exporter": "python",
   "pygments_lexer": "ipython3",
   "version": "3.7.1"
  }
 },
 "nbformat": 4,
 "nbformat_minor": 2
}
